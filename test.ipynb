{
 "cells": [
  {
   "cell_type": "code",
   "execution_count": 1,
   "metadata": {},
   "outputs": [
    {
     "name": "stdout",
     "output_type": "stream",
     "text": [
      "All tests passed.\n"
     ]
    }
   ],
   "source": [
    "import pandas as pd\n",
    "from collegefood import drop_columns  # Replace 'your_module' with the actual module where your function is defined\n",
    "\n",
    "# Assuming you have a sample DataFrame for testing\n",
    "sample_data = {\n",
    "    'A': [1, 2, 3],\n",
    "    'B': [4, 5, 6],\n",
    "    'C': [7, 8, 9]\n",
    "}\n",
    "sample_df = pd.DataFrame(sample_data)\n",
    "\n",
    "# Test case 1: Drop a single column\n",
    "result_df = drop_columns(sample_df, columns_to_drop=['B'])\n",
    "assert 'B' not in result_df.columns\n",
    "assert 'A' in result_df.columns\n",
    "assert 'C' in result_df.columns\n",
    "\n",
    "# Test case 2: Drop multiple columns\n",
    "result_df = drop_columns(sample_df, columns_to_drop=['A', 'C'])\n",
    "assert 'A' not in result_df.columns\n",
    "assert 'B' in result_df.columns\n",
    "assert 'C' not in result_df.columns\n",
    "\n",
    "# Test case 3: Drop non-existing column (should not raise an error)\n",
    "result_df = drop_columns(sample_df, columns_to_drop=['D'])\n",
    "assert 'D' not in result_df.columns\n",
    "\n",
    "print(\"All tests passed.\")\n"
   ]
  }
 ],
 "metadata": {
  "kernelspec": {
   "display_name": "stat386",
   "language": "python",
   "name": "python3"
  },
  "language_info": {
   "codemirror_mode": {
    "name": "ipython",
    "version": 3
   },
   "file_extension": ".py",
   "mimetype": "text/x-python",
   "name": "python",
   "nbconvert_exporter": "python",
   "pygments_lexer": "ipython3",
   "version": "3.10.0"
  }
 },
 "nbformat": 4,
 "nbformat_minor": 2
}
